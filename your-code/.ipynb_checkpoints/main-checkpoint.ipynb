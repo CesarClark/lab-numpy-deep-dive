{
 "cells": [
  {
   "cell_type": "code",
   "execution_count": null,
   "metadata": {},
   "outputs": [],
   "source": [
    "#1. Import the NUMPY package under the name np."
   ]
  },
  {
   "cell_type": "code",
   "execution_count": 1,
   "metadata": {},
   "outputs": [],
   "source": [
    "import numpy as np"
   ]
  },
  {
   "cell_type": "code",
   "execution_count": 3,
   "metadata": {},
   "outputs": [
    {
     "name": "stdout",
     "output_type": "stream",
     "text": [
      "1.18.1\n",
      "blas_mkl_info:\n",
      "    libraries = ['mkl_rt']\n",
      "    library_dirs = ['C:/Users/User/ANACONDA3.7\\\\Library\\\\lib']\n",
      "    define_macros = [('SCIPY_MKL_H', None), ('HAVE_CBLAS', None)]\n",
      "    include_dirs = ['C:\\\\Program Files (x86)\\\\IntelSWTools\\\\compilers_and_libraries_2019.0.117\\\\windows\\\\mkl', 'C:\\\\Program Files (x86)\\\\IntelSWTools\\\\compilers_and_libraries_2019.0.117\\\\windows\\\\mkl\\\\include', 'C:\\\\Program Files (x86)\\\\IntelSWTools\\\\compilers_and_libraries_2019.0.117\\\\windows\\\\mkl\\\\lib', 'C:/Users/User/ANACONDA3.7\\\\Library\\\\include']\n",
      "blas_opt_info:\n",
      "    libraries = ['mkl_rt']\n",
      "    library_dirs = ['C:/Users/User/ANACONDA3.7\\\\Library\\\\lib']\n",
      "    define_macros = [('SCIPY_MKL_H', None), ('HAVE_CBLAS', None)]\n",
      "    include_dirs = ['C:\\\\Program Files (x86)\\\\IntelSWTools\\\\compilers_and_libraries_2019.0.117\\\\windows\\\\mkl', 'C:\\\\Program Files (x86)\\\\IntelSWTools\\\\compilers_and_libraries_2019.0.117\\\\windows\\\\mkl\\\\include', 'C:\\\\Program Files (x86)\\\\IntelSWTools\\\\compilers_and_libraries_2019.0.117\\\\windows\\\\mkl\\\\lib', 'C:/Users/User/ANACONDA3.7\\\\Library\\\\include']\n",
      "lapack_mkl_info:\n",
      "    libraries = ['mkl_rt']\n",
      "    library_dirs = ['C:/Users/User/ANACONDA3.7\\\\Library\\\\lib']\n",
      "    define_macros = [('SCIPY_MKL_H', None), ('HAVE_CBLAS', None)]\n",
      "    include_dirs = ['C:\\\\Program Files (x86)\\\\IntelSWTools\\\\compilers_and_libraries_2019.0.117\\\\windows\\\\mkl', 'C:\\\\Program Files (x86)\\\\IntelSWTools\\\\compilers_and_libraries_2019.0.117\\\\windows\\\\mkl\\\\include', 'C:\\\\Program Files (x86)\\\\IntelSWTools\\\\compilers_and_libraries_2019.0.117\\\\windows\\\\mkl\\\\lib', 'C:/Users/User/ANACONDA3.7\\\\Library\\\\include']\n",
      "lapack_opt_info:\n",
      "    libraries = ['mkl_rt']\n",
      "    library_dirs = ['C:/Users/User/ANACONDA3.7\\\\Library\\\\lib']\n",
      "    define_macros = [('SCIPY_MKL_H', None), ('HAVE_CBLAS', None)]\n",
      "    include_dirs = ['C:\\\\Program Files (x86)\\\\IntelSWTools\\\\compilers_and_libraries_2019.0.117\\\\windows\\\\mkl', 'C:\\\\Program Files (x86)\\\\IntelSWTools\\\\compilers_and_libraries_2019.0.117\\\\windows\\\\mkl\\\\include', 'C:\\\\Program Files (x86)\\\\IntelSWTools\\\\compilers_and_libraries_2019.0.117\\\\windows\\\\mkl\\\\lib', 'C:/Users/User/ANACONDA3.7\\\\Library\\\\include']\n",
      "None\n"
     ]
    }
   ],
   "source": [
    "#2. Print the NUMPY version and the configuration.\n",
    "\n",
    "print(np.__version__)\n",
    "print(np.show_config())"
   ]
  },
  {
   "cell_type": "code",
   "execution_count": 5,
   "metadata": {},
   "outputs": [
    {
     "name": "stdout",
     "output_type": "stream",
     "text": [
      "[[[0.1459207  0.65011771 0.35480641 0.73540809 0.52861901]\n",
      "  [0.6733331  0.30790379 0.86985743 0.632575   0.39760851]\n",
      "  [0.32036339 0.56707049 0.91789259 0.35667667 0.04586689]]\n",
      "\n",
      " [[0.07016635 0.155066   0.42653911 0.57309375 0.49300942]\n",
      "  [0.6118963  0.96764684 0.71578781 0.81081119 0.97470966]\n",
      "  [0.40091858 0.52952103 0.28407498 0.3498969  0.59929294]]]\n"
     ]
    }
   ],
   "source": [
    "#3. Generate a 2x3x5 3-dimensional array with random values. Assign the array to variable \"a\"\n",
    "# Challenge: there are at least three easy ways that use numpy to generate random arrays. How many ways can you find?\n",
    "\n",
    "\n",
    "a=np.random.random((2,3,5))\n",
    "#4. Print a.\n",
    "\n",
    "print(a)"
   ]
  },
  {
   "cell_type": "code",
   "execution_count": 6,
   "metadata": {},
   "outputs": [
    {
     "name": "stdout",
     "output_type": "stream",
     "text": [
      "[[[1 1 1]\n",
      "  [1 1 1]]\n",
      "\n",
      " [[1 1 1]\n",
      "  [1 1 1]]\n",
      "\n",
      " [[1 1 1]\n",
      "  [1 1 1]]\n",
      "\n",
      " [[1 1 1]\n",
      "  [1 1 1]]\n",
      "\n",
      " [[1 1 1]\n",
      "  [1 1 1]]]\n"
     ]
    }
   ],
   "source": [
    "#5. Create a 5x2x3 3-dimensional array with all values equaling 1.\n",
    "#Assign the array to variable \"b\"\n",
    "\n",
    "#5. Print b\n",
    "\n",
    "b=np.full((5,2,3),1)\n",
    "print(b)"
   ]
  },
  {
   "cell_type": "code",
   "execution_count": 9,
   "metadata": {},
   "outputs": [
    {
     "name": "stdout",
     "output_type": "stream",
     "text": [
      "a y b son del mismo tamaño\n"
     ]
    }
   ],
   "source": [
    "#7. Do a and b have the same size? How do you prove that in Python code?\n",
    "\n",
    "if a.size==b.size:\n",
    "    print(\"a y b son del mismo tamaño\")\n",
    "else:\n",
    "    print(\"a y b son de tamaños diferentes\")\n",
    "        "
   ]
  },
  {
   "cell_type": "code",
   "execution_count": 11,
   "metadata": {},
   "outputs": [
    {
     "ename": "ValueError",
     "evalue": "operands could not be broadcast together with shapes (2,3,5) (5,2,3) ",
     "output_type": "error",
     "traceback": [
      "\u001b[1;31m---------------------------------------------------------------------------\u001b[0m",
      "\u001b[1;31mValueError\u001b[0m                                Traceback (most recent call last)",
      "\u001b[1;32m<ipython-input-11-7412cfcb6155>\u001b[0m in \u001b[0;36m<module>\u001b[1;34m\u001b[0m\n\u001b[0;32m      1\u001b[0m \u001b[1;31m#8. Are you able to add a and b? Why or why not?\u001b[0m\u001b[1;33m\u001b[0m\u001b[1;33m\u001b[0m\u001b[1;33m\u001b[0m\u001b[0m\n\u001b[1;32m----> 2\u001b[1;33m \u001b[0mprint\u001b[0m\u001b[1;33m(\u001b[0m\u001b[0mnp\u001b[0m\u001b[1;33m.\u001b[0m\u001b[0madd\u001b[0m\u001b[1;33m(\u001b[0m\u001b[0ma\u001b[0m\u001b[1;33m,\u001b[0m\u001b[0mb\u001b[0m\u001b[1;33m)\u001b[0m\u001b[1;33m)\u001b[0m\u001b[1;33m\u001b[0m\u001b[1;33m\u001b[0m\u001b[0m\n\u001b[0m",
      "\u001b[1;31mValueError\u001b[0m: operands could not be broadcast together with shapes (2,3,5) (5,2,3) "
     ]
    }
   ],
   "source": [
    "#8. Are you able to add a and b? Why or why not?\n",
    "print(np.add(a,b))\n",
    "\n",
    "#ANSWER: You cannot add for a and b have different matrix shapes. "
   ]
  },
  {
   "cell_type": "code",
   "execution_count": 46,
   "metadata": {},
   "outputs": [
    {
     "name": "stdout",
     "output_type": "stream",
     "text": [
      "[[[0.1459207  0.65011771 0.35480641 0.73540809 0.52861901]\n",
      "  [0.6733331  0.30790379 0.86985743 0.632575   0.39760851]\n",
      "  [0.32036339 0.56707049 0.91789259 0.35667667 0.04586689]]\n",
      "\n",
      " [[0.07016635 0.155066   0.42653911 0.57309375 0.49300942]\n",
      "  [0.6118963  0.96764684 0.71578781 0.81081119 0.97470966]\n",
      "  [0.40091858 0.52952103 0.28407498 0.3498969  0.59929294]]]\n",
      "(2, 3, 5)\n",
      "-----\n",
      " \n",
      "[[[1 1 1]\n",
      "  [1 1 1]]\n",
      "\n",
      " [[1 1 1]\n",
      "  [1 1 1]]\n",
      "\n",
      " [[1 1 1]\n",
      "  [1 1 1]]\n",
      "\n",
      " [[1 1 1]\n",
      "  [1 1 1]]\n",
      "\n",
      " [[1 1 1]\n",
      "  [1 1 1]]]\n",
      "(5, 2, 3)\n",
      "-----\n",
      " \n",
      "la traspuesta de b es c: \n",
      "[[[1 1 1 1 1]\n",
      "  [1 1 1 1 1]\n",
      "  [1 1 1 1 1]]\n",
      "\n",
      " [[1 1 1 1 1]\n",
      "  [1 1 1 1 1]\n",
      "  [1 1 1 1 1]]]\n"
     ]
    }
   ],
   "source": [
    "#9. Transpose b so that it has the same structure of a (i.e. become a 2x3x5 array). \n",
    "# Assign the transposed array to varialbe \"c\".\n",
    "\n",
    "print(a)\n",
    "print(np.shape(a))\n",
    "print(\"-----\\n \")\n",
    "\n",
    "print(b)\n",
    "print(np.shape(b))\n",
    "print(\"-----\\n \")\n",
    "\n",
    "print(\"la traspuesta de b es c: \")\n",
    "c=np.transpose(b,(1,2,0))\n",
    "print(c)\n"
   ]
  },
  {
   "cell_type": "code",
   "execution_count": 74,
   "metadata": {},
   "outputs": [
    {
     "name": "stdout",
     "output_type": "stream",
     "text": [
      "[[[1.1459207  1.65011771 1.35480641 1.73540809 1.52861901]\n",
      "  [1.6733331  1.30790379 1.86985743 1.632575   1.39760851]\n",
      "  [1.32036339 1.56707049 1.91789259 1.35667667 1.04586689]]\n",
      "\n",
      " [[1.07016635 1.155066   1.42653911 1.57309375 1.49300942]\n",
      "  [1.6118963  1.96764684 1.71578781 1.81081119 1.97470966]\n",
      "  [1.40091858 1.52952103 1.28407498 1.3498969  1.59929294]]]\n"
     ]
    }
   ],
   "source": [
    "#10. Try to add a and c. Now it should work. Assign the sum to varialbe \"d\". But why does it work now?\n",
    "d=np.add(a,c)\n",
    "print(d)"
   ]
  },
  {
   "cell_type": "code",
   "execution_count": 44,
   "metadata": {},
   "outputs": [
    {
     "name": "stdout",
     "output_type": "stream",
     "text": [
      "La Matriz a es:\n",
      "[[[0.1459207  0.65011771 0.35480641 0.73540809 0.52861901]\n",
      "  [0.6733331  0.30790379 0.86985743 0.632575   0.39760851]\n",
      "  [0.32036339 0.56707049 0.91789259 0.35667667 0.04586689]]\n",
      "\n",
      " [[0.07016635 0.155066   0.42653911 0.57309375 0.49300942]\n",
      "  [0.6118963  0.96764684 0.71578781 0.81081119 0.97470966]\n",
      "  [0.40091858 0.52952103 0.28407498 0.3498969  0.59929294]]]\n",
      "La Martiz d es:\n",
      "[[[1.1459207  1.65011771 1.35480641 1.73540809 1.52861901]\n",
      "  [1.6733331  1.30790379 1.86985743 1.632575   1.39760851]\n",
      "  [1.32036339 1.56707049 1.91789259 1.35667667 1.04586689]]\n",
      "\n",
      " [[1.07016635 1.155066   1.42653911 1.57309375 1.49300942]\n",
      "  [1.6118963  1.96764684 1.71578781 1.81081119 1.97470966]\n",
      "  [1.40091858 1.52952103 1.28407498 1.3498969  1.59929294]]]\n",
      "La diferencia entre los valores de ambas matrices es 1.00\n"
     ]
    }
   ],
   "source": [
    "#11. Print a and d. Notice the difference and relation of the two array in terms of the values? Explain.\n",
    "\n",
    "print(\"La Matriz a es:\")\n",
    "print(a)\n",
    "\n",
    "print(\"La Martiz d es:\")\n",
    "print(d)\n",
    "\n",
    "print(\"La diferencia entre los valores de ambas matrices es 1.00\")"
   ]
  },
  {
   "cell_type": "code",
   "execution_count": 45,
   "metadata": {},
   "outputs": [
    {
     "name": "stdout",
     "output_type": "stream",
     "text": [
      "[[[0.1459207  0.65011771 0.35480641 0.73540809 0.52861901]\n",
      "  [0.6733331  0.30790379 0.86985743 0.632575   0.39760851]\n",
      "  [0.32036339 0.56707049 0.91789259 0.35667667 0.04586689]]\n",
      "\n",
      " [[0.07016635 0.155066   0.42653911 0.57309375 0.49300942]\n",
      "  [0.6118963  0.96764684 0.71578781 0.81081119 0.97470966]\n",
      "  [0.40091858 0.52952103 0.28407498 0.3498969  0.59929294]]]\n"
     ]
    }
   ],
   "source": [
    "#12. Multiply a and c. Assign the result to e.\n",
    "\n",
    "e=np.multiply(a,c)\n",
    "\n",
    "print(e)"
   ]
  },
  {
   "cell_type": "code",
   "execution_count": 49,
   "metadata": {},
   "outputs": [
    {
     "name": "stdout",
     "output_type": "stream",
     "text": [
      "Yes, \"e\" is equal to \"a\" because \"a\" was multiplied by matrix \"c\", which is a matrix of ones\n"
     ]
    }
   ],
   "source": [
    "#13. Does e equal to a? Why or why not?\n",
    "\n",
    "print('''Yes, \"e\" is equal to \"a\" because \"a\" was multiplied by matrix \"c\", which is a matrix of ones''')"
   ]
  },
  {
   "cell_type": "code",
   "execution_count": 52,
   "metadata": {},
   "outputs": [
    {
     "name": "stdout",
     "output_type": "stream",
     "text": [
      "Max of 'd' is: \n",
      "1.9747096647010989\n",
      "Min of 'd' is: \n",
      "1.0458668903165589\n",
      "Mean of 'd' is: \n",
      "1.5155483553231346\n"
     ]
    }
   ],
   "source": [
    "#14. Identify the max, min, and mean values in d. Assign those values to variables \"d_max\", \"d_min\", and \"d_mean\"\n",
    "\n",
    "print(\"Max of 'd' is: \")\n",
    "d_max=np.max(d)\n",
    "print(d_max)\n",
    "\n",
    "print(\"Min of 'd' is: \")\n",
    "d_min=np.min(d)\n",
    "print(d_min)\n",
    "\n",
    "print(\"Mean of 'd' is: \")\n",
    "d_mean=np.mean(d)\n",
    "print(d_mean)\n"
   ]
  },
  {
   "cell_type": "code",
   "execution_count": 53,
   "metadata": {},
   "outputs": [
    {
     "name": "stdout",
     "output_type": "stream",
     "text": [
      "[[[0.1459207  0.65011771 0.35480641 0.73540809 0.52861901]\n",
      "  [0.6733331  0.30790379 0.86985743 0.632575   0.39760851]\n",
      "  [0.32036339 0.56707049 0.91789259 0.35667667 0.04586689]]\n",
      "\n",
      " [[0.07016635 0.155066   0.42653911 0.57309375 0.49300942]\n",
      "  [0.6118963  0.96764684 0.71578781 0.81081119 0.97470966]\n",
      "  [0.40091858 0.52952103 0.28407498 0.3498969  0.59929294]]]\n"
     ]
    }
   ],
   "source": [
    "#15. Now we want to label the values in d. First create an empty array \"f\" with the same shape \n",
    "#(i.e. 2x3x5) as d using `np.empty`.\n",
    "\n",
    "f=np.empty((2,3,5))\n",
    "print(f)"
   ]
  },
  {
   "cell_type": "code",
   "execution_count": 94,
   "metadata": {},
   "outputs": [
    {
     "name": "stdout",
     "output_type": "stream",
     "text": [
      "[[[1.1459207  1.65011771 1.35480641 1.73540809 1.52861901]\n",
      "  [1.6733331  1.30790379 1.86985743 1.632575   1.39760851]\n",
      "  [1.32036339 1.56707049 1.91789259 1.35667667 1.04586689]]\n",
      "\n",
      " [[1.07016635 1.155066   1.42653911 1.57309375 1.49300942]\n",
      "  [1.6118963  1.96764684 1.71578781 1.81081119 1.97470966]\n",
      "  [1.40091858 1.52952103 1.28407498 1.3498969  1.59929294]]] -------------\n",
      " -----------------\n",
      "d min is:  1.0458668903165589 \n",
      "-----------------\n",
      "[[[ 25.  75.  25.  75.  75.]\n",
      "  [ 75.  25.  75.  75.  25.]\n",
      "  [ 25.  75.  75.  25.   0.]]\n",
      "\n",
      " [[ 25.  25.  25.  75.  25.]\n",
      "  [ 75.  75.  75.  75. 100.]\n",
      "  [ 25.  75.  25.  25.  75.]]]\n"
     ]
    }
   ],
   "source": [
    "d=np.add(a,c)\n",
    "'''16. Populate the values in f. For each value in d, if it's larger than d_min but smaller than d_mean, \n",
    "assign 25 to the corresponding value in f.   |||d>d_min & d< d_mean d=25\n",
    "If a value in d is larger than d_mean but smaller than d_max, assign 75 to the corresponding value in f.||| d>d_mean & d<d_max, d=75\n",
    "If a value equals to d_mean, assign 50 to the corresponding value in f.  ||| d=d_mean, d=50\n",
    "Assign 0 to the corresponding value(s) in f for d_min in d.   |||d=d_min, d=0\n",
    "Assign 100 to the corresponding value(s) in f for d_max in d. ||| d=d_max, d=100\n",
    "In the end, f should have only the following values: 0, 25, 50, 75, and 100.\n",
    "Note: you don't have to use Numpy in this question.'''\n",
    "print(d, \"-------------\\n -----------------\")\n",
    "print(\"d min is: \",d_min, \"\\n-----------------\")\n",
    "\n",
    "f=np.where(d==d_max,100,d)\n",
    "\n",
    "f=np.where(d==d_mean,50,f)\n",
    "\n",
    "f=np.where(d==d_min,0,f)\n",
    "\n",
    "f=np.where(((d>d_min) & (d<d_mean)),25,f)\n",
    "\n",
    "f=np.where(((d>d_mean) & (d<d_max)),75,f)\n",
    "\n",
    "print(f)"
   ]
  },
  {
   "cell_type": "code",
   "execution_count": 96,
   "metadata": {},
   "outputs": [
    {
     "name": "stdout",
     "output_type": "stream",
     "text": [
      "la matriz d es:  [[[1.1459207  1.65011771 1.35480641 1.73540809 1.52861901]\n",
      "  [1.6733331  1.30790379 1.86985743 1.632575   1.39760851]\n",
      "  [1.32036339 1.56707049 1.91789259 1.35667667 1.04586689]]\n",
      "\n",
      " [[1.07016635 1.155066   1.42653911 1.57309375 1.49300942]\n",
      "  [1.6118963  1.96764684 1.71578781 1.81081119 1.97470966]\n",
      "  [1.40091858 1.52952103 1.28407498 1.3498969  1.59929294]]]\n",
      "la matriz f es:  [[[ 25.  75.  25.  75.  75.]\n",
      "  [ 75.  25.  75.  75.  25.]\n",
      "  [ 25.  75.  75.  25.   0.]]\n",
      "\n",
      " [[ 25.  25.  25.  75.  25.]\n",
      "  [ 75.  75.  75.  75. 100.]\n",
      "  [ 25.  75.  25.  25.  75.]]]\n"
     ]
    }
   ],
   "source": [
    "\"\"\"#17. Print d and f. Do you have your expected f?\n",
    "For instance, if your d is:\"\"\"\n",
    "\n",
    "print(\"la matriz d es: \", d)\n",
    "print(\"la matriz f es: \", f)"
   ]
  },
  {
   "cell_type": "code",
   "execution_count": null,
   "metadata": {},
   "outputs": [],
   "source": []
  }
 ],
 "metadata": {
  "kernelspec": {
   "display_name": "Python 3",
   "language": "python",
   "name": "python3"
  },
  "language_info": {
   "codemirror_mode": {
    "name": "ipython",
    "version": 3
   },
   "file_extension": ".py",
   "mimetype": "text/x-python",
   "name": "python",
   "nbconvert_exporter": "python",
   "pygments_lexer": "ipython3",
   "version": "3.7.6"
  }
 },
 "nbformat": 4,
 "nbformat_minor": 4
}
